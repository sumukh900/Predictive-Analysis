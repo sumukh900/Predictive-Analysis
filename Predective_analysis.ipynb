{
 "cells": [
  {
   "cell_type": "code",
   "execution_count": 29,
   "id": "57f876cf-8dd1-46ff-94eb-8f749c764884",
   "metadata": {},
   "outputs": [
    {
     "name": "stdin",
     "output_type": "stream",
     "text": [
      "Enter age:  60\n",
      "Smoke? (Yes/No):  No\n",
      "Drink? (Yes/No):  No\n",
      "Diabatic? (Yes/No):  No\n",
      "Enter systolic BP (e.g., 120):  170/90\n"
     ]
    },
    {
     "name": "stdout",
     "output_type": "stream",
     "text": [
      "\n",
      "Predicted Stroke Probability: 61.96%\n",
      "Accuracy: 100.00%\n"
     ]
    }
   ],
   "source": [
    "import pandas as pd\n",
    "from sklearn.model_selection import train_test_split\n",
    "from sklearn.linear_model import LogisticRegression\n",
    "from sklearn.metrics import accuracy_score, classification_report, confusion_matrix\n",
    "from sklearn.preprocessing import LabelEncoder\n",
    "from sklearn.metrics import accuracy_score\n",
    "\n",
    "\n",
    "df = pd.read_csv(r'C:\\Users\\91986\\example.csv')\n",
    "\n",
    "\n",
    "label_encoder = LabelEncoder()\n",
    "df['Smoke'] = label_encoder.fit_transform(df['Smoke'])\n",
    "df['Drink'] = label_encoder.fit_transform(df['Drink'])\n",
    "df['Diabatic'] = label_encoder.fit_transform(df['Diabatic'])\n",
    "\n",
    "\n",
    "df['Systolic_BP'] = df['BP'].apply(lambda x: int(x.split('/')[0]))\n",
    "\n",
    "\n",
    "features = ['Age', 'Smoke', 'Drink', 'Diabatic', 'Systolic_BP']\n",
    "target_variable = 'Stroke'\n",
    "\n",
    "\n",
    "X = df[features]\n",
    "y = df[target_variable]\n",
    "\n",
    "\n",
    "model = LogisticRegression()\n",
    "\n",
    "\n",
    "model.fit(X, y)\n",
    "\n",
    "\n",
    "def predict_stroke_probability():\n",
    "    age = float(input(\"Enter age: \"))\n",
    "    smoke = label_encoder.transform([input(\"Smoke? (Yes/No): \")])[0]\n",
    "    drink = label_encoder.transform([input(\"Drink? (Yes/No): \")])[0]\n",
    "    diabatic = label_encoder.transform([input(\"Diabatic? (Yes/No): \")])[0]\n",
    "    systolic_bp = input(\"Enter systolic BP (e.g., 120): \")\n",
    "\n",
    "\n",
    "    systolic_bp_numeric = int(systolic_bp.split('/')[0])\n",
    "\n",
    "\n",
    "    user_data = pd.DataFrame([[age, smoke, drink, diabatic, systolic_bp_numeric]], columns=features)\n",
    "\n",
    "\n",
    "    stroke_probability = model.predict_proba(user_data)[:, 1][0]\n",
    "\n",
    "    print(f\"\\nPredicted Stroke Probability: {stroke_probability * 100:.2f}%\")\n",
    "    accuracy = accuracy_score(y_test, y_pred)\n",
    "    print(f\"Accuracy: {accuracy * 100:.2f}%\")\n",
    "\n",
    "\n",
    "predict_stroke_probability()\n"
   ]
  },
  {
   "cell_type": "code",
   "execution_count": null,
   "id": "8fac5f52-3fb3-441a-9bbd-373b8101b306",
   "metadata": {},
   "outputs": [],
   "source": []
  }
 ],
 "metadata": {
  "kernelspec": {
   "display_name": "Python 3 (ipykernel)",
   "language": "python",
   "name": "python3"
  },
  "language_info": {
   "codemirror_mode": {
    "name": "ipython",
    "version": 3
   },
   "file_extension": ".py",
   "mimetype": "text/x-python",
   "name": "python",
   "nbconvert_exporter": "python",
   "pygments_lexer": "ipython3",
   "version": "3.11.4"
  }
 },
 "nbformat": 4,
 "nbformat_minor": 5
}
